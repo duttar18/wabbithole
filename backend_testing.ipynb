{
 "cells": [
  {
   "cell_type": "code",
   "execution_count": 217,
   "metadata": {},
   "outputs": [],
   "source": [
    "import requests\n",
    "import urllib\n",
    "import numpy as np\n",
    "from bs4 import BeautifulSoup\n",
    "from collections import Counter"
   ]
  },
  {
   "cell_type": "code",
   "execution_count": 2,
   "metadata": {},
   "outputs": [],
   "source": [
    "blocklist = [\n",
    "    \"Main_Page\",\n",
    "    \"Help:\",\n",
    "    \"Special:\",\n",
    "    \"Portal:\",\n",
    "    \"Talk:\",\n",
    "    \"Template:\"\n",
    "]"
   ]
  },
  {
   "cell_type": "code",
   "execution_count": 179,
   "metadata": {},
   "outputs": [],
   "source": [
    "def parse_wiki_link(link):\n",
    "    r = requests.get(link)\n",
    "    \n",
    "    soup = BeautifulSoup(r.content, 'html.parser')\n",
    "    # jank way to figure out redirect links\n",
    "    real_link = soup.find_all('link', {\"rel\" : \"canonical\"})[0].get(\"href\").split(\"#\")[0]\n",
    "    if real_link == link:\n",
    "        real_link = None\n",
    "\n",
    "    wiki_content_links = set()\n",
    "    for link in soup.find_all('a', href=True):\n",
    "        clean_link = link[\"href\"]\n",
    "        clean_link = urllib.parse.unquote(clean_link)\n",
    "        if clean_link.startswith(\"/wiki/\"):\n",
    "            wiki_link = clean_link[6:]\n",
    "            if any(x in wiki_link for x in blocklist):\n",
    "                continue\n",
    "            wiki_content_links.add(clean_link)\n",
    "        \n",
    "    return wiki_content_links, real_link"
   ]
  },
  {
   "cell_type": "code",
   "execution_count": 130,
   "metadata": {},
   "outputs": [],
   "source": [
    "link = \"https://en.wikipedia.org/wiki/Optimal_control_theory\"\n",
    "l, real_link = parse_wiki_link(link)"
   ]
  },
  {
   "cell_type": "code",
   "execution_count": 180,
   "metadata": {},
   "outputs": [],
   "source": [
    "class UserHistory:\n",
    "    def __init__(self, user_history):\n",
    "        self.user_history = user_history\n",
    "        # user_vists is a list of links in chronological order ascending\n",
    "        # user_vists[-1] is the current page\n",
    "        self.outgoing_links = Counter()\n",
    "        #self.ingoing_links = set()\n",
    "        for link in user_history:\n",
    "            results, real_link = parse_wiki_link(link)\n",
    "            self.outgoing_links.update(results)\n",
    "            #self.ingoing_links.update(parse_wiki_ingoing(link))\n",
    "        self.already_visited_pages = {link.split(\"wikipedia.org\")[1] for link in user_history}\n",
    "\n",
    "        # remove self-loops\n",
    "        for page in self.already_visited_pages:\n",
    "            if page in self.outgoing_links:\n",
    "                del self.outgoing_links[page]\n",
    "        #self.ingoing_links -= already_visited_pages\n",
    "        \n",
    "        # self.outgoing_text"
   ]
  },
  {
   "cell_type": "code",
   "execution_count": 137,
   "metadata": {},
   "outputs": [],
   "source": [
    "def wiki_prefix(suffix):\n",
    "    # suffix is '/wiki/<article title>'\n",
    "    return \"https://en.wikipedia.org/\"+link"
   ]
  },
  {
   "cell_type": "code",
   "execution_count": 207,
   "metadata": {},
   "outputs": [],
   "source": [
    "class Cache:\n",
    "    def __init__(self, fetch_fn):\n",
    "        self.dict = dict()\n",
    "        self.fetch_fn = fetch_fn\n",
    "\n",
    "    def __call__(self, key, args):\n",
    "        if key in self.dict:\n",
    "            return self.dict[key]\n",
    "        result = self.fetch_fn(args)\n",
    "        self.dict[key] = result\n",
    "        return result\n",
    "\n",
    "def linkcount_fetch(wiki_page):\n",
    "    # this is so damn slow\n",
    "    link = f\"https://linkcount.toolforge.org/api/?page={wiki_page}&project=en.wikipedia.org\"\n",
    "    r = requests.get(link).json()\n",
    "    return r[\"wikilinks\"][\"all\"]"
   ]
  },
  {
   "cell_type": "code",
   "execution_count": 88,
   "metadata": {},
   "outputs": [],
   "source": [
    "def score_link_similarity(user_history, target):\n",
    "    # user_history  \n",
    "    #   incorporate idf (just hyperlinks) -> scrape target/what_links_here (expensive)\n",
    "    #   or sample 10000 pages and count link frequency and store it somewhere else                       \n",
    "    #   incorporate ingoing recommendations\n",
    "    # return score(target | user_history)\n",
    "\n",
    "    # how many times does target appear in self.outgoing_links\n",
    "    pass"
   ]
  },
  {
   "cell_type": "code",
   "execution_count": 89,
   "metadata": {},
   "outputs": [],
   "source": [
    "def score_link_text_similarity(user_history, target):\n",
    "    # user_history  \n",
    "    #   incorporate idf (text)\n",
    "    #   incorporate ingoing recommendations\n",
    "    # return score(target | user_history)\n",
    "    pass"
   ]
  },
  {
   "cell_type": "code",
   "execution_count": 222,
   "metadata": {},
   "outputs": [],
   "source": [
    "def score_coupling_similarity(user_history, target, cache, doc_freq_cache):\n",
    "    # user_history  \n",
    "    #   need to download target and scrape it's links\n",
    "    # pages are similar if their outgoing (ingoing) links have overlap\n",
    "    if target in cache:\n",
    "        results, real_link = cache[target]\n",
    "    else:\n",
    "        results, real_link = parse_wiki_link(target)\n",
    "        cache[target] = [results, real_link]\n",
    "    if real_link is not None:\n",
    "        # this is a redirect link\n",
    "        if \"/wiki\" + real_link.split(\"/wiki\")[1] in user_history.already_visited_pages:\n",
    "            # already been to this page, don't re-recommend\n",
    "            # unless we want to in some cases?\n",
    "            return -100\n",
    "\n",
    "    #doc_freq = doc_freq_cache()\n",
    "    target_outgoing = Counter(results)\n",
    "\n",
    "    score = 0\n",
    "    doc_len = sum(v for v in user_history.outgoing_links.values())\n",
    "    k1 = 0.5\n",
    "    k3 = 0.5\n",
    "    b = 0.9\n",
    "    avg_doc_len = 50 #?\n",
    "    for link, count in target_outgoing.items():\n",
    "        query_count = user_history.outgoing_links[link]\n",
    "        if count == 0 or query_count == 0:\n",
    "            continue\n",
    "        page_name = link.split(\"/wiki/\")[1]\n",
    "        doc_freq = doc_freq_cache(page_name, page_name)\n",
    "\n",
    "        norm_qtf = (k3+1)*query_count / (k3 + query_count)\n",
    "        norm_tf = count * (k1 + 1) / (count + k1*((1-b)+b*(doc_len/avg_doc_len)))\n",
    "        tf = norm_tf * norm_qtf\n",
    "\n",
    "        num_links_on_wiki = 1e7\n",
    "        idf = np.log(num_links_on_wiki / (doc_freq+1))\n",
    "        score += tf * idf\n",
    "    #union = sum(v for v in target_outgoing.values()) + sum(v for v in user_history.outgoing_links.values())\n",
    "\n",
    "    return score"
   ]
  },
  {
   "cell_type": "code",
   "execution_count": null,
   "metadata": {},
   "outputs": [],
   "source": [
    "cache = dict()"
   ]
  },
  {
   "cell_type": "code",
   "execution_count": 209,
   "metadata": {},
   "outputs": [],
   "source": [
    "doc_freq_cache = Cache(linkcount_fetch)"
   ]
  },
  {
   "cell_type": "code",
   "execution_count": 147,
   "metadata": {},
   "outputs": [],
   "source": [
    "link1 = \"https://en.wikipedia.org/wiki/Hamilton–Jacobi–Bellman_equation\"\n",
    "link2 = \"https://en.wikipedia.org/wiki/Value_function\"\n",
    "link3 = \"https://en.wikipedia.org/wiki/Optimal_control\"\n",
    "user_history = UserHistory([link1, link2, link3])"
   ]
  },
  {
   "cell_type": "code",
   "execution_count": 184,
   "metadata": {},
   "outputs": [],
   "source": [
    "link1 = \"https://en.wikipedia.org/wiki/Bitcoin\"\n",
    "link2 = \"https://en.wikipedia.org/wiki/Lightning_Network\"\n",
    "user_history = UserHistory([link1, link2])"
   ]
  },
  {
   "cell_type": "code",
   "execution_count": 229,
   "metadata": {},
   "outputs": [
    {
     "data": {
      "text/plain": [
       "{'/wiki/Blockchain#Blockchain_analysis': 446.8843310628075,\n",
       " '/wiki/Bitcoin_network#Mining': 431.2871402340079,\n",
       " '/wiki/Bitcoin_network#Payment_verification': 431.2871402340079,\n",
       " '/wiki/Bitcoin_Cash': 419.15067436413483,\n",
       " '/wiki/Peercoin': 405.7886679475003,\n",
       " '/wiki/Proof-of-work_system': 397.5773815048087,\n",
       " '/wiki/Bitcoin_Gold': 397.45741631690527,\n",
       " '/wiki/Ledger_(journal)': 390.8854515109159,\n",
       " '/wiki/List_of_people_in_blockchain_technology': 387.1498060394201,\n",
       " '/wiki/Blockchain.info': 377.77912996630687,\n",
       " '/wiki/BitLicense': 376.39386692372705,\n",
       " '/wiki/Bitwala': 373.1601653409947,\n",
       " '/wiki/Environmental_impact_of_cryptocurrencies': 325.70287850964627,\n",
       " '/wiki/ERC-20': 319.8335247975653,\n",
       " '/wiki/Ethereum': 319.8335247975653,\n",
       " '/wiki/Digital_currency': 315.02486765102344,\n",
       " '/wiki/Virtual_currency': 308.82921330417446,\n",
       " '/wiki/Diem_(digital_currency)': 308.3917625231289,\n",
       " '/wiki/List_of_SHA-256_crypto_currencies': 307.22545243792393,\n",
       " '/wiki/Cryptocurrency_and_security#Bitcoin': 297.61914998276677,\n",
       " '/wiki/Cryptocurrency_and_crime': 297.61914998276677,\n",
       " '/wiki/Non-fungible_token': 297.30223060404495,\n",
       " '/wiki/Cardano_(blockchain_platform)': 294.3355753198918,\n",
       " '/wiki/Initial_coin_offering': 294.09571852730767,\n",
       " '/wiki/Bitconnect': 290.30183053090343,\n",
       " '/wiki/Web3': 289.718954699625,\n",
       " '/wiki/Distributed_ledger': 288.93009955199915,\n",
       " '/wiki/Nxt': 287.3164938655038,\n",
       " '/wiki/Minds': 286.20266696902445,\n",
       " '/wiki/Decentralized_finance': 284.1645438752372,\n",
       " '/wiki/Auroracoin': 283.9427071452141,\n",
       " '/wiki/WhopperCoin': 282.66460096558984,\n",
       " '/wiki/Bitso': 282.5502646881136,\n",
       " '/wiki/Hashgraph': 281.99978807850727,\n",
       " '/wiki/Stablecoin': 281.45141431305933,\n",
       " '/wiki/Paxos_Trust_Company': 280.0432302242139,\n",
       " '/wiki/Decentralized_application': 279.8929702652404,\n",
       " '/wiki/CoinDesk': 279.79134771455466,\n",
       " '/wiki/Fork_(blockchain)': 279.5252549185574,\n",
       " '/wiki/MazaCoin': 278.69219654373734,\n",
       " '/wiki/Crypto.com': 278.0228096012082,\n",
       " '/wiki/Unspent_outputs_of_transactions': 277.748514110902,\n",
       " '/wiki/Bitpanda': 273.7649096596448,\n",
       " '/wiki/Economics_of_bitcoin': 239.65845093874853,\n",
       " '/wiki/Legality_of_bitcoin_by_country_or_territory': 156.98912314741105,\n",
       " '/wiki/Legality_of_bitcoin_by_country_or_territory#China': 156.98912314741105,\n",
       " '/wiki/2020_Twitter_account_hijacking': 144.93183676541676,\n",
       " '/wiki/Iranian_rial': 139.1190451234824,\n",
       " '/wiki/Cody_Wilson': 136.6897823332845,\n",
       " '/wiki/BitInstant': 136.35906439766217,\n",
       " '/wiki/List_of_bitcoin_forks': 134.80359991060377,\n",
       " '/wiki/Bitcoin_XT': 134.80359991060377,\n",
       " '/wiki/Taproot_(fork)': 134.80359991060377,\n",
       " '/wiki/Bitcoin_Magazine': 127.64153563334187,\n",
       " '/wiki/Bitcoin_ATM': 126.8523275369666,\n",
       " '/wiki/BitGo': 126.53886307023271,\n",
       " '/wiki/Wences_Casares': 122.69643429610576,\n",
       " '/wiki/The_Rise_and_Rise_of_Bitcoin': 122.55079813878305,\n",
       " '/wiki/Amir_Taaki': 121.519146613624,\n",
       " '/wiki/Bangladeshi_taka': 120.89934418159325,\n",
       " '/wiki/2018_Bitcoin_bomb_threats': 119.51842710028083,\n",
       " '/wiki/Kazakhstani_tenge': 119.19725910920569,\n",
       " '/wiki/Ghanaian_cedi': 119.01785411677413,\n",
       " '/wiki/Pound_sign': 115.83744132076758,\n",
       " '/wiki/Cifrão': 115.21321706112231,\n",
       " '/wiki/Currency_code': 114.41001425909546,\n",
       " '/wiki/Pfennig': 114.13263349197919,\n",
       " '/wiki/Mill_(currency)': 113.13950942179851,\n",
       " '/wiki/Digital_signature': 110.85064887838402,\n",
       " '/wiki/Argentine_austral': 110.2926335336205,\n",
       " '/wiki/Rupee_sign': 108.9195943722903,\n",
       " '/wiki/Won_sign': 108.87210497260621,\n",
       " '/wiki/Currency_Symbols_(Unicode_block)': 108.67218478443205,\n",
       " '/wiki/Armenian_dram_sign': 104.82838558406863,\n",
       " '/wiki/Elliptic_curve_cryptography': 104.19587784748836,\n",
       " '/wiki/Category:Cryptocurrencies': 103.37680809975362,\n",
       " '/wiki/Category:Cryptocurrency_projects': 83.91929557681426,\n",
       " '/wiki/United_States_dollar': 75.71853124589344,\n",
       " '/wiki/Central_bank': 65.81046523870026,\n",
       " '/wiki/Banknote': 58.12718102723965,\n",
       " '/wiki/Massachusetts_Institute_of_Technology': 57.17746703692269,\n",
       " '/wiki/Derivative_(finance)': 55.9622189978115,\n",
       " '/wiki/Iran': 53.95892630297449,\n",
       " '/wiki/YouTube': 52.190741823601236,\n",
       " '/wiki/Sri_Lankan_rupee': 47.70826098486337,\n",
       " '/wiki/Central_Bank_of_Iran': 46.414219310296346,\n",
       " '/wiki/Xinjiang': 45.96458698146758,\n",
       " '/wiki/European_Central_Bank': 41.8643577856837,\n",
       " '/wiki/Public_key': 41.70569035510185,\n",
       " '/wiki/Public-key_cryptography': 41.70569035510185,\n",
       " '/wiki/Speculation': 39.10464764330338,\n",
       " '/wiki/Token_money': 38.18167875452414,\n",
       " '/wiki/Dark_web': 37.822109509874814,\n",
       " '/wiki/Tea_Party_movement': 37.49268143729605,\n",
       " '/wiki/New_York_Times': 37.16607421645286,\n",
       " '/wiki/Intermittent_renewable_energy_sources': 34.72461111273246,\n",
       " '/wiki/PDVSA': 34.43334805770699,\n",
       " '/wiki/Hedge_(finance)': 32.552491036250075,\n",
       " '/wiki/Boston_University': 32.386685874488045,\n",
       " '/wiki/U.S._Securities_and_Exchange_Commission': 31.105635075781617,\n",
       " '/wiki/Hashcash': 30.253314108546075,\n",
       " '/wiki/Wei_Dai': 30.053524446294144,\n",
       " '/wiki/Baidu': 29.308040559816597,\n",
       " '/wiki/QR_codes': 28.806464027215544,\n",
       " '/wiki/Wikimedia_Foundation': 28.69037077360783,\n",
       " '/wiki/Utah': 28.30598304806852,\n",
       " '/wiki/Electricity_market#Risk_management': 28.021275438587658,\n",
       " '/wiki/The_Economist': 27.695326979129415,\n",
       " '/wiki/Cambridge_University': 27.674243769336464,\n",
       " '/wiki/HSBC': 27.387128033161915,\n",
       " '/wiki/Exchange_rate': 27.04489628527146,\n",
       " '/wiki/Robert_Shiller': 26.99157892557753,\n",
       " '/wiki/Xinhua': 26.38779651768227,\n",
       " '/wiki/Trusted_timestamping': 26.12934135982213,\n",
       " '/wiki/Central_processing_unit': 25.898653233657765,\n",
       " '/wiki/Library_of_Congress': 25.538004432356324,\n",
       " '/wiki/University_of_Pittsburgh': 25.38070356135314,\n",
       " '/wiki/Academic_journal': 25.050010830296728,\n",
       " '/wiki/2016_Bitfinex_hack': 24.69454216531026,\n",
       " '/wiki/Nobel_Memorial_Prize_in_Economic_Sciences': 23.77461559134248,\n",
       " '/wiki/World_Bank_Group': 23.761919863919793,\n",
       " '/wiki/Application-specific_integrated_circuit': 23.174459553031323,\n",
       " '/wiki/Jordan': 23.13583853325987,\n",
       " '/wiki/Email_spam': 22.56040138666162,\n",
       " '/wiki/Data_center': 22.18157439137031,\n",
       " '/wiki/CNBC': 22.157451201956814,\n",
       " '/wiki/United_States_Department_of_Justice': 21.964761602664858,\n",
       " '/wiki/Tamper-evident_technology#Seals_and_signatures': 20.77545808816628,\n",
       " '/wiki/MIT_Technology_Review': 19.46777176170905,\n",
       " \"/wiki/Papa_John's\": 18.776319187660732,\n",
       " '/wiki/Buy_and_hold': 18.132112238297697,\n",
       " '/wiki/Oxford_English_Dictionary': 17.922461135244614,\n",
       " '/wiki/File:Bills_and_coins.svg': 17.512154666362562,\n",
       " '/wiki/Control_flow#Loops': 17.4479993881397,\n",
       " '/wiki/University_of_Edinburgh': 17.37232036746842,\n",
       " '/wiki/Synchronization_(computer_science)': 17.25133602758068,\n",
       " '/wiki/Dupondius': 15.87915257243637,\n",
       " '/wiki/Sestertius': 15.723839204330169,\n",
       " '/wiki/Fork_(software_development)': 15.383075643071848,\n",
       " '/wiki/Chicago_Mercantile_Exchange': 15.295631962144267,\n",
       " '/wiki/Geothermal': 14.921309763696563,\n",
       " '/wiki/Template_talk:Navbox_currency_symbols': 13.260081172228938,\n",
       " '/wiki/2018_Atlanta_cyberattack': 12.761152330771777,\n",
       " '/wiki/Peripheral': 12.700105451519427,\n",
       " '/wiki/Digital_asset': 12.342228392146454,\n",
       " '/wiki/Quinarius': 12.21649207982122,\n",
       " '/wiki/FINRA': 11.787600974484072,\n",
       " '/wiki/Consensus_decision-making': 11.584152165634704,\n",
       " '/wiki/Payment_system': 10.929573827234112,\n",
       " '/wiki/Michael_Novogratz': 10.804433261360046,\n",
       " '/wiki/Money_transmitter': 10.766740047565353,\n",
       " '/wiki/Financial_News': 10.38329290666562,\n",
       " '/wiki/TheGuardian.com': 10.1356358643647,\n",
       " '/wiki/Reference_implementation': 9.429942041391646,\n",
       " '/wiki/Base58': 8.17213478330029,\n",
       " '/wiki/Repository_(version_control)': 8.012931017561574,\n",
       " '/wiki/Journal_of_Monetary_Economics': 7.509318651429239,\n",
       " '/wiki/Security_hologram': 7.248302754365367,\n",
       " '/wiki/Category:Articles_with_short_description': 6.356518166175235,\n",
       " '/wiki/Category:Articles_with_unsourced_statements_from_May_2019': 6.335212823932583,\n",
       " '/wiki/Massachusetts_Mutual_Life_Insurance_Company': 6.277366946345008,\n",
       " '/wiki/SSRN_(identifier)': 6.121531442788374,\n",
       " '/wiki/Money_services_business': 6.051238443765135,\n",
       " '/wiki/Cambridge_Centre_for_Alternative_Finance': 5.431390771286651,\n",
       " '/wiki/File:Free_and_open-source_software_logo_(2009).svg': 5.182098065869075,\n",
       " '/wiki/Category:Articles_with_failed_verification_from_December_2019': 4.848618131509946,\n",
       " '/wiki/File:Bitcoin_logo.svg': 4.541906573635422,\n",
       " '/wiki/File:BTCvolatility.svg': 4.514043738603056,\n",
       " '/wiki/File:History_of_Bitcoin_difficulty.svg': 4.36606741706517,\n",
       " '/wiki/Category:Short_description_is_different_from_Wikidata': 4.305425255521195,\n",
       " '/wiki/Category:2009_software': 4.076582287111492,\n",
       " '/wiki/European_Banking_Authority': 3.732976777154331,\n",
       " '/wiki/Turku_University_of_Applied_Sciences': 2.6423358943048463,\n",
       " '/wiki/File:Bitcoin_Block_Data.png': 2.4652945321135387,\n",
       " '/wiki/File:Total-bitcoins.svg': 2.4652945321135387,\n",
       " '/wiki/File:10elqpi.jpg': 2.4652945321135387,\n",
       " '/wiki/File:Bitcoin_paper_wallet_generated_at_bitaddress.jpg': 2.4652945321135387,\n",
       " '/wiki/File:Bitcoin.png': 2.3592763032117423,\n",
       " '/wiki/Category:All_Wikipedia_articles_written_in_American_English': 2.2532580743099455,\n",
       " '/wiki/Category:Pages_using_multiple_image_with_auto_scaled_images': 2.2532580743099455,\n",
       " '/wiki/Category:Articles_with_Curlie_links': 2.1676637353782504,\n",
       " '/wiki/Category:CS1_German-language_sources_(de)': 2.1292246977091,\n",
       " '/wiki/Category:Use_American_English_from_December_2017': 1.5820654795677438,\n",
       " '/wiki/Category:Articles_with_BNE_identifiers': 0.7150164472224072,\n",
       " '/wiki/Category:Articles_with_J9U_identifiers': 0.6885787568402237}"
      ]
     },
     "execution_count": 229,
     "metadata": {},
     "output_type": "execute_result"
    }
   ],
   "source": [
    "iou_scores = dict()\n",
    "for link in user_history.outgoing_links.keys():\n",
    "    iou_scores[link] = score_coupling_similarity(user_history, wiki_prefix(link), cache, doc_freq_cache)\n",
    "{k: v for k, v in sorted(iou_scores.items(), reverse=True, key=lambda item: item[1])}"
   ]
  },
  {
   "cell_type": "code",
   "execution_count": 21,
   "metadata": {},
   "outputs": [
    {
     "data": {
      "text/plain": [
       "0.08285163776493257"
      ]
     },
     "execution_count": 21,
     "metadata": {},
     "output_type": "execute_result"
    }
   ],
   "source": [
    "score_coupling_similarity(user_history, \"https://en.wikipedia.org/wiki/Dynamic_programming\")"
   ]
  },
  {
   "cell_type": "code",
   "execution_count": 22,
   "metadata": {},
   "outputs": [
    {
     "data": {
      "text/plain": [
       "0.4370860927152318"
      ]
     },
     "execution_count": 22,
     "metadata": {},
     "output_type": "execute_result"
    }
   ],
   "source": [
    "score_coupling_similarity(user_history, \"https://en.wikipedia.org/wiki/]\")"
   ]
  },
  {
   "cell_type": "code",
   "execution_count": 91,
   "metadata": {},
   "outputs": [],
   "source": [
    "def compute_outgoing_scores_baseline(user_history):\n",
    "    # composite score_link_similarity and score_link_text_similarity\n",
    "    # (todo: this filters scores, will do re-ranking with coupling similarity, re-ranking with deeper searches, etc)\n",
    "    weight = 1.0 # to be tuned\n",
    "    outgoing_scores = dict()\n",
    "    for link in user_history.outgoing_links:\n",
    "        outgoing_scores[link] = score_link_similarity(user_history, link) + weight * score_link_text_similarity(user_history, link)\n",
    "    return outgoing_scores"
   ]
  },
  {
   "cell_type": "code",
   "execution_count": 135,
   "metadata": {},
   "outputs": [],
   "source": [
    "def rerank_with_coupling(user_history, baseline_scores, num_rerank):\n",
    "    sorted_scores = sort(baseline_scores, 'descending')\n",
    "\n",
    "    for target, score in sorted_scores[num_rerank]:\n",
    "        coupling_score = score_coupling_similarity(user_history, target)\n",
    "        "
   ]
  },
  {
   "cell_type": "code",
   "execution_count": null,
   "metadata": {},
   "outputs": [],
   "source": [
    "def recommend(ranks):\n",
    "    pass"
   ]
  },
  {
   "cell_type": "code",
   "execution_count": null,
   "metadata": {},
   "outputs": [],
   "source": [
    "def visualize_history(user_history):\n",
    "    pass"
   ]
  },
  {
   "cell_type": "code",
   "execution_count": null,
   "metadata": {},
   "outputs": [],
   "source": []
  }
 ],
 "metadata": {
  "interpreter": {
   "hash": "c7fe94ad52fb42cd2c8480166949ec48c6429ac5eb7e0959789098eed3674765"
  },
  "kernelspec": {
   "display_name": "Python 3.9.1 ('ml_env')",
   "language": "python",
   "name": "python3"
  },
  "language_info": {
   "codemirror_mode": {
    "name": "ipython",
    "version": 3
   },
   "file_extension": ".py",
   "mimetype": "text/x-python",
   "name": "python",
   "nbconvert_exporter": "python",
   "pygments_lexer": "ipython3",
   "version": "3.9.1"
  },
  "orig_nbformat": 4
 },
 "nbformat": 4,
 "nbformat_minor": 2
}
