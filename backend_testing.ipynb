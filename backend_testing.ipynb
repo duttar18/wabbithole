{
 "cells": [
  {
   "cell_type": "code",
   "execution_count": 61,
   "metadata": {},
   "outputs": [],
   "source": [
    "import requests\n",
    "import urllib\n",
    "from bs4 import BeautifulSoup"
   ]
  },
  {
   "cell_type": "code",
   "execution_count": 62,
   "metadata": {},
   "outputs": [],
   "source": [
    "blacklist = [\n",
    "    \"Main_Page\",\n",
    "    \"Help:\",\n",
    "    \"Special:\",\n",
    "    \"Portal:\",\n",
    "    \"Talk:\",\n",
    "    \"Wikipedia:\",\n",
    "    \"Template:\"\n",
    "]"
   ]
  },
  {
   "cell_type": "code",
   "execution_count": 64,
   "metadata": {},
   "outputs": [
    {
     "data": {
      "text/plain": [
       "'/wiki/Hamilton–Jacobi–Bellman_equation'"
      ]
     },
     "execution_count": 64,
     "metadata": {},
     "output_type": "execute_result"
    }
   ],
   "source": [
    "urllib.parse.unquote(\"/wiki/Hamilton%E2%80%93Jacobi%E2%80%93Bellman_equation\")"
   ]
  },
  {
   "cell_type": "code",
   "execution_count": 71,
   "metadata": {},
   "outputs": [],
   "source": [
    "def parse_wiki_link(link):\n",
    "    r = requests.get(link)\n",
    "    soup = BeautifulSoup(r.content, 'html.parser')\n",
    "\n",
    "    wiki_content_links = set()\n",
    "    for link in soup.find_all('a', href=True):\n",
    "        clean_link = link[\"href\"]\n",
    "        clean_link = urllib.parse.unquote(clean_link)\n",
    "        if clean_link.startswith(\"/wiki/\"):\n",
    "            wiki_link = clean_link[6:]\n",
    "            if any(x in wiki_link for x in blacklist):\n",
    "                continue\n",
    "            wiki_content_links.add(clean_link)\n",
    "    return wiki_content_links"
   ]
  },
  {
   "cell_type": "code",
   "execution_count": 72,
   "metadata": {},
   "outputs": [],
   "source": [
    "link = \"https://en.wikipedia.org/wiki/Hamilton–Jacobi–Bellman_equation\"\n",
    "l = parse_wiki_link(link)"
   ]
  },
  {
   "cell_type": "code",
   "execution_count": 60,
   "metadata": {},
   "outputs": [],
   "source": [
    "class UserHistory:\n",
    "    def __init__(self, user_visits):\n",
    "        # user_vists is a list of links in chronological order ascending\n",
    "        # user_vists[-1] is the current page\n",
    "        self.outgoing_links = set()\n",
    "        for link in user_visits:\n",
    "            self.outgoing_links.update(parse_wiki_link(link))\n",
    "        already_visited_pages = {link.split(\"wikipedia.org/\"[1]) for link in user_visits}\n",
    "\n",
    "        # remove self-loops\n",
    "        self.outgoing_links -= already_visited_pages\n",
    "\n",
    "        # first stage of ranking: use NLP to choose top-k links from self.outgoing_links\n",
    "        #   Collect text from all pages on user_visits\n",
    "        #   TF-IDF for similarity between (Text in links) and (Text in all pages)\n",
    "        #   For top textually similar links, crawl these target pages for text & links\n",
    "        #       check link similarity (can also use text from the target page now)\n"
   ]
  },
  {
   "cell_type": "code",
   "execution_count": null,
   "metadata": {},
   "outputs": [],
   "source": [
    "def recommend_similar_pages(user_history):\n",
    "    # user_history  "
   ]
  },
  {
   "cell_type": "code",
   "execution_count": 50,
   "metadata": {},
   "outputs": [],
   "source": [
    "wiki_content_links = set()\n",
    "for link in soup.find_all('a', href=True):\n",
    "    wiki_link = link[\"href\"]\n",
    "    if wiki_link.startswith(\"/wiki/\"):\n",
    "        wiki_link = wiki_link[6:]\n",
    "        if any(x in wiki_link for x in blacklist):\n",
    "            continue\n",
    "        wiki_content_links.add(link[\"href\"])"
   ]
  },
  {
   "cell_type": "code",
   "execution_count": 51,
   "metadata": {},
   "outputs": [
    {
     "name": "stdout",
     "output_type": "stream",
     "text": [
      "/wiki/Category:Dynamic_programming\n",
      "/wiki/Category:Optimal_control\n",
      "/wiki/Backward_induction\n",
      "/wiki/Multilayer_perceptron\n",
      "/wiki/Category:All_articles_with_unsourced_statements\n",
      "/wiki/Pierre-Louis_Lions\n",
      "/wiki/Template:Cite_journal\n",
      "/wiki/Pontryagin%27s_maximum_principle\n",
      "/wiki/Proceedings_of_the_National_Academy_of_Sciences_of_the_United_States_of_America\n",
      "/wiki/Brachistochrone_problem\n",
      "/wiki/Category:Stochastic_control\n",
      "/wiki/Doi_(identifier)\n",
      "/wiki/S2CID_(identifier)\n",
      "/wiki/Richard_Bellman\n",
      "/wiki/Category:William_Rowan_Hamilton\n",
      "/wiki/Classical_physics\n",
      "/wiki/ISBN_(identifier)\n",
      "/wiki/Bellman_equation\n",
      "/wiki/Subderivative\n",
      "/wiki/It%C3%B4_calculus\n",
      "/wiki/Principle_of_optimality\n",
      "/wiki/Little-o_notation\n",
      "/wiki/Minimax_solution\n",
      "/wiki/Merton%27s_portfolio_problem\n",
      "/wiki/Loss_function\n",
      "/wiki/Viscosity_solution\n",
      "/wiki/Hamilton%E2%80%93Jacobi%E2%80%93Bellman_equation\n",
      "/wiki/Bibcode_(identifier)\n",
      "/wiki/Dimitri_Bertsekas\n",
      "/wiki/Necessary_and_sufficient_condition\n",
      "/wiki/Optimal_control_theory\n",
      "/wiki/Sum-of-squares_optimization\n",
      "/wiki/Category:Partial_differential_equations\n",
      "/wiki/Stochastic\n",
      "/wiki/Value_function\n",
      "/wiki/John_Tsitsiklis\n",
      "/wiki/Dynamic_programming\n",
      "/wiki/Variational_problem\n",
      "/wiki/Infinitesimal_generator_(stochastic_processes)\n",
      "/wiki/Discrete_time_and_continuous_time\n",
      "/wiki/Dimitri_P._Bertsekas\n",
      "/wiki/PMC_(identifier)\n",
      "/wiki/Control_(optimal_control_theory)\n",
      "/wiki/Category:Articles_with_unsourced_statements_from_July_2019\n",
      "/wiki/Rudolf_E._K%C3%A1lm%C3%A1n\n",
      "/wiki/Hamiltonian_(control_theory)\n",
      "/wiki/Artificial_neural_network\n",
      "/wiki/Category:CS1_errors:_missing_periodical\n",
      "/wiki/Hamilton%E2%80%93Jacobi_equation\n",
      "/wiki/Difference_equation\n",
      "/wiki/PMID_(identifier)\n",
      "/wiki/Taylor_expansion\n",
      "/wiki/Partial_differential_equation\n",
      "/wiki/Smoothness\n",
      "/wiki/ArXiv_(identifier)\n",
      "/wiki/OCLC_(identifier)\n",
      "/wiki/Linear-quadratic-Gaussian_control\n",
      "/wiki/Riccati_equation\n",
      "/wiki/Elliptic_partial_differential_equation\n",
      "/wiki/Michael_G._Crandall\n",
      "/wiki/Bequest_value\n"
     ]
    }
   ],
   "source": [
    "for i in wiki_content_links:\n",
    "    print(i)"
   ]
  },
  {
   "cell_type": "code",
   "execution_count": null,
   "metadata": {},
   "outputs": [],
   "source": []
  }
 ],
 "metadata": {
  "interpreter": {
   "hash": "c7fe94ad52fb42cd2c8480166949ec48c6429ac5eb7e0959789098eed3674765"
  },
  "kernelspec": {
   "display_name": "Python 3.9.1 ('ml_env')",
   "language": "python",
   "name": "python3"
  },
  "language_info": {
   "codemirror_mode": {
    "name": "ipython",
    "version": 3
   },
   "file_extension": ".py",
   "mimetype": "text/x-python",
   "name": "python",
   "nbconvert_exporter": "python",
   "pygments_lexer": "ipython3",
   "version": "3.9.1"
  },
  "orig_nbformat": 4
 },
 "nbformat": 4,
 "nbformat_minor": 2
}
