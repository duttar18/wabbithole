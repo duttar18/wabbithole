{
 "cells": [
  {
   "cell_type": "code",
   "execution_count": 74,
   "metadata": {},
   "outputs": [],
   "source": [
    "import requests\n",
    "import urllib\n",
    "from bs4 import BeautifulSoup"
   ]
  },
  {
   "cell_type": "code",
   "execution_count": 75,
   "metadata": {},
   "outputs": [],
   "source": [
    "blocklist = [\n",
    "    \"Main_Page\",\n",
    "    \"Help:\",\n",
    "    \"Special:\",\n",
    "    \"Portal:\",\n",
    "    \"Talk:\",\n",
    "    \"Wikipedia:\",\n",
    "    \"Template:\"\n",
    "]"
   ]
  },
  {
   "cell_type": "code",
   "execution_count": 76,
   "metadata": {},
   "outputs": [
    {
     "data": {
      "text/plain": [
       "'/wiki/Hamilton–Jacobi–Bellman_equation'"
      ]
     },
     "execution_count": 76,
     "metadata": {},
     "output_type": "execute_result"
    }
   ],
   "source": [
    "urllib.parse.unquote(\"/wiki/Hamilton%E2%80%93Jacobi%E2%80%93Bellman_equation\")"
   ]
  },
  {
   "cell_type": "code",
   "execution_count": 84,
   "metadata": {},
   "outputs": [],
   "source": [
    "def parse_wiki_link(link):\n",
    "    r = requests.get(link)\n",
    "    soup = BeautifulSoup(r.content, 'html.parser')\n",
    "\n",
    "    wiki_content_links = set()\n",
    "    for link in soup.find_all('a', href=True):\n",
    "        clean_link = link[\"href\"]\n",
    "        clean_link = urllib.parse.unquote(clean_link)\n",
    "        if clean_link.startswith(\"/wiki/\"):\n",
    "            wiki_link = clean_link[6:]\n",
    "            if any(x in wiki_link for x in blocklist):\n",
    "                continue\n",
    "            wiki_content_links.add(clean_link)\n",
    "    return wiki_content_links"
   ]
  },
  {
   "cell_type": "code",
   "execution_count": 85,
   "metadata": {},
   "outputs": [],
   "source": [
    "link = \"https://en.wikipedia.org/wiki/Hamilton–Jacobi–Bellman_equation\"\n",
    "l = parse_wiki_link(link)"
   ]
  },
  {
   "cell_type": "code",
   "execution_count": 79,
   "metadata": {},
   "outputs": [],
   "source": [
    "class UserHistory:\n",
    "    def __init__(self, user_history):\n",
    "        self.user_history = user_history\n",
    "        # user_vists is a list of links in chronological order ascending\n",
    "        # user_vists[-1] is the current page\n",
    "        self.outgoing_links = set() # TODO change this to dict() : key -> count\n",
    "        #self.ingoing_links = set()\n",
    "        for link in user_history:\n",
    "            self.outgoing_links.update(parse_wiki_link(link))\n",
    "            #self.ingoing_links.update(parse_wiki_ingoing(link))\n",
    "        already_visited_pages = {link.split(\"wikipedia.org/\"[1]) for link in user_history}\n",
    "\n",
    "        # remove self-loops\n",
    "        self.outgoing_links -= already_visited_pages # for k in already_visited_pages: remove\n",
    "        #self.ingoing_links -= already_visited_pages\n",
    "        \n",
    "        # self.outgoing_text\n"
   ]
  },
  {
   "cell_type": "code",
   "execution_count": 88,
   "metadata": {},
   "outputs": [],
   "source": [
    "def score_link_similarity(user_history, target):\n",
    "    # user_history  \n",
    "    #   incorporate idf (just hyperlinks) -> scrape target/what_links_here (expensive)\n",
    "    #   or sample 10000 pages and count link frequency and store it somewhere else                       \n",
    "    #   incorporate ingoing recommendations\n",
    "    # return score(target | user_history)\n",
    "\n",
    "    # how many times does target appear in self.outgoing_links\n",
    "    pass"
   ]
  },
  {
   "cell_type": "code",
   "execution_count": 89,
   "metadata": {},
   "outputs": [],
   "source": [
    "def score_link_text_similarity(user_history, target):\n",
    "    # user_history  \n",
    "    #   incorporate idf (text)\n",
    "    #   incorporate ingoing recommendations\n",
    "    # return score(target | user_history)\n",
    "    pass"
   ]
  },
  {
   "cell_type": "code",
   "execution_count": null,
   "metadata": {},
   "outputs": [],
   "source": [
    "def score_coupling_similarity(user_history, target):\n",
    "    # user_history  \n",
    "    #   need to download target and scrape it's links\n",
    "    # pages are similar if their outgoing (ingoing) links have overlap\n",
    "    pass"
   ]
  },
  {
   "cell_type": "code",
   "execution_count": 91,
   "metadata": {},
   "outputs": [],
   "source": [
    "def compute_outgoing_scores_baseline(user_history):\n",
    "    # composite score_link_similarity and score_link_text_similarity\n",
    "    # (todo: this filters scores, will do re-ranking with coupling similarity, re-ranking with deeper searches, etc)\n",
    "    weight = 1.0 # to be tuned\n",
    "    outgoing_scores = dict()\n",
    "    for link in user_history.outgoing_links:\n",
    "        outgoing_scores[link] = score_link_similarity(user_history, link) + weight * score_link_text_similarity(user_history, link)\n",
    "    return outgoing_scores"
   ]
  },
  {
   "cell_type": "code",
   "execution_count": 92,
   "metadata": {},
   "outputs": [
    {
     "ename": "IndentationError",
     "evalue": "expected an indented block (<ipython-input-92-8676a6193530>, line 1)",
     "output_type": "error",
     "traceback": [
      "\u001b[0;36m  File \u001b[0;32m\"<ipython-input-92-8676a6193530>\"\u001b[0;36m, line \u001b[0;32m1\u001b[0m\n\u001b[0;31m    def rerank_with_coupling(user_history, baseline_scores):\u001b[0m\n\u001b[0m                                                            ^\u001b[0m\n\u001b[0;31mIndentationError\u001b[0m\u001b[0;31m:\u001b[0m expected an indented block\n"
     ]
    }
   ],
   "source": [
    "def rerank_with_coupling(user_history, baseline_scores, num_rerank):\n",
    "    sorted_scores = sort(baseline_scores, 'descending')\n",
    "\n",
    "    for target, score in sorted_scores[num_rerank]:\n",
    "        coupling_score = score_coupling_similarity(user_history, target)\n",
    "        "
   ]
  },
  {
   "cell_type": "code",
   "execution_count": null,
   "metadata": {},
   "outputs": [],
   "source": [
    "def recommend(ranks):\n",
    "    pass"
   ]
  },
  {
   "cell_type": "code",
   "execution_count": null,
   "metadata": {},
   "outputs": [],
   "source": [
    "def visualize_history(user_history):\n",
    "    pass"
   ]
  }
 ],
 "metadata": {
  "interpreter": {
   "hash": "c7fe94ad52fb42cd2c8480166949ec48c6429ac5eb7e0959789098eed3674765"
  },
  "kernelspec": {
   "display_name": "Python 3.9.1 ('ml_env')",
   "language": "python",
   "name": "python3"
  },
  "language_info": {
   "codemirror_mode": {
    "name": "ipython",
    "version": 3
   },
   "file_extension": ".py",
   "mimetype": "text/x-python",
   "name": "python",
   "nbconvert_exporter": "python",
   "pygments_lexer": "ipython3",
   "version": "3.9.1"
  },
  "orig_nbformat": 4
 },
 "nbformat": 4,
 "nbformat_minor": 2
}
